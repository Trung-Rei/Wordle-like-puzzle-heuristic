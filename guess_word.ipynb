{
  "cells": [
    {
      "cell_type": "code",
      "execution_count": 1,
      "metadata": {
        "colab": {
          "base_uri": "https://localhost:8080/"
        },
        "id": "ztO8CFs3PKS6",
        "outputId": "79bcc990-7392-493f-b7c8-39a513885d43"
      },
      "outputs": [
        {
          "name": "stdout",
          "output_type": "stream",
          "text": [
            "Collecting nltk\n",
            "  Obtaining dependency information for nltk from https://files.pythonhosted.org/packages/a6/0a/0d20d2c0f16be91b9fa32a77b76c60f9baf6eba419e5ef5deca17af9c582/nltk-3.8.1-py3-none-any.whl.metadata\n",
            "  Downloading nltk-3.8.1-py3-none-any.whl.metadata (2.8 kB)\n",
            "Requirement already satisfied: click in /Library/Frameworks/Python.framework/Versions/3.8/lib/python3.8/site-packages (from nltk) (8.0.3)\n",
            "Requirement already satisfied: joblib in /Library/Frameworks/Python.framework/Versions/3.8/lib/python3.8/site-packages (from nltk) (1.0.1)\n",
            "Requirement already satisfied: regex>=2021.8.3 in /Library/Frameworks/Python.framework/Versions/3.8/lib/python3.8/site-packages (from nltk) (2022.9.13)\n",
            "Requirement already satisfied: tqdm in /Library/Frameworks/Python.framework/Versions/3.8/lib/python3.8/site-packages (from nltk) (4.61.2)\n",
            "Downloading nltk-3.8.1-py3-none-any.whl (1.5 MB)\n",
            "\u001b[2K   \u001b[90m━━━━━━━━━━━━━━━━━━━━━━━━━━━━━━━━━━━━━━━━\u001b[0m \u001b[32m1.5/1.5 MB\u001b[0m \u001b[31m5.1 MB/s\u001b[0m eta \u001b[36m0:00:00\u001b[0m00:01\u001b[0m00:01\u001b[0m0m\n",
            "\u001b[?25hInstalling collected packages: nltk\n",
            "\u001b[33m  WARNING: The script nltk is installed in '/Library/Frameworks/Python.framework/Versions/3.8/bin' which is not on PATH.\n",
            "  Consider adding this directory to PATH or, if you prefer to suppress this warning, use --no-warn-script-location.\u001b[0m\u001b[33m\n",
            "\u001b[0mSuccessfully installed nltk-3.8.1\n",
            "\n",
            "\u001b[1m[\u001b[0m\u001b[34;49mnotice\u001b[0m\u001b[1;39;49m]\u001b[0m\u001b[39;49m A new release of pip is available: \u001b[0m\u001b[31;49m23.2.1\u001b[0m\u001b[39;49m -> \u001b[0m\u001b[32;49m24.1\u001b[0m\n",
            "\u001b[1m[\u001b[0m\u001b[34;49mnotice\u001b[0m\u001b[1;39;49m]\u001b[0m\u001b[39;49m To update, run: \u001b[0m\u001b[32;49mpython3 -m pip install --upgrade pip\u001b[0m\n",
            "Note: you may need to restart the kernel to use updated packages.\n"
          ]
        }
      ],
      "source": [
        "%pip install nltk"
      ]
    },
    {
      "cell_type": "code",
      "execution_count": 2,
      "metadata": {
        "colab": {
          "base_uri": "https://localhost:8080/"
        },
        "id": "I3KrEQOIHCGG",
        "outputId": "330c2c9b-5b9a-42eb-c97d-b8003f6eaac4"
      },
      "outputs": [
        {
          "name": "stderr",
          "output_type": "stream",
          "text": [
            "[nltk_data] Downloading package words to /Users/Rei/nltk_data...\n",
            "[nltk_data]   Unzipping corpora/words.zip.\n"
          ]
        },
        {
          "data": {
            "text/plain": [
              "True"
            ]
          },
          "execution_count": 2,
          "metadata": {},
          "output_type": "execute_result"
        }
      ],
      "source": [
        "import requests\n",
        "import nltk\n",
        "from nltk.corpus import words\n",
        "import random\n",
        "from difflib import get_close_matches\n",
        "\n",
        "API_URL = 'https://wordle.votee.dev:8000/random'\n",
        "\n",
        "nltk.download('words')  # Download the corpus if needed"
      ]
    },
    {
      "cell_type": "code",
      "execution_count": 3,
      "metadata": {
        "colab": {
          "base_uri": "https://localhost:8080/"
        },
        "id": "c1BVZXc8IHMB",
        "outputId": "3472261c-a007-44c8-deda-13771f2c7931"
      },
      "outputs": [
        {
          "name": "stdout",
          "output_type": "stream",
          "text": [
            "Guessing: shelf\n"
          ]
        },
        {
          "data": {
            "text/plain": [
              "[{'slot': 0, 'guess': 's', 'result': 'absent'},\n",
              " {'slot': 1, 'guess': 'h', 'result': 'correct'},\n",
              " {'slot': 2, 'guess': 'e', 'result': 'correct'},\n",
              " {'slot': 3, 'guess': 'l', 'result': 'absent'},\n",
              " {'slot': 4, 'guess': 'f', 'result': 'present'}]"
            ]
          },
          "execution_count": 3,
          "metadata": {},
          "output_type": "execute_result"
        }
      ],
      "source": [
        "def make_guess(guess, seed, size):\n",
        "    \"\"\"Get a response from the API for a given guess.\n",
        "    \"\"\"\n",
        "    print(f\"Guessing: {guess}\")\n",
        "    response = requests.get(f'{API_URL}?guess={guess}&seed={seed}&size={size}')\n",
        "    return response.json()\n",
        "\n",
        "response = make_guess('shelf', 1234, 5)\n",
        "response"
      ]
    },
    {
      "cell_type": "markdown",
      "metadata": {
        "id": "5simLTKtF9eQ"
      },
      "source": [
        "`chars` format:\n",
        "* `chars[:size]`: correct characters in the right slots, `''` for empty slots.\n",
        "* `chars[size:]`: present characters with unknown slot."
      ]
    },
    {
      "cell_type": "code",
      "execution_count": 4,
      "metadata": {
        "colab": {
          "base_uri": "https://localhost:8080/",
          "height": 35
        },
        "id": "NlJV9R97jbne",
        "outputId": "748fa8dc-2066-47f0-c595-6008377dff16"
      },
      "outputs": [
        {
          "data": {
            "text/plain": [
              "'wynn'"
            ]
          },
          "execution_count": 4,
          "metadata": {},
          "output_type": "execute_result"
        }
      ],
      "source": [
        "def chrs(chars, size):\n",
        "    \"\"\"Concatenate the characters into a string.\n",
        "    Replace empty slots with present characters.\n",
        "    \"\"\"\n",
        "    present_chars = chars[size:]\n",
        "    j = 0\n",
        "    chars_cpy = chars[:size]\n",
        "    for i in range(size):\n",
        "        if j == len(present_chars):\n",
        "            break\n",
        "        if not chars_cpy[i]:\n",
        "            chars_cpy[i] = present_chars[j]\n",
        "            j += 1\n",
        "    return \"\".join(chars_cpy)\n",
        "\n",
        "chars = ['w', '', 'n', 'n', 'y']\n",
        "chrs(chars, 4)"
      ]
    },
    {
      "cell_type": "code",
      "execution_count": 5,
      "metadata": {
        "colab": {
          "base_uri": "https://localhost:8080/"
        },
        "id": "5zxHTA46jXDw",
        "outputId": "1da9fe71-df64-42e0-e558-bbef3cf81e9a"
      },
      "outputs": [
        {
          "name": "stdout",
          "output_type": "stream",
          "text": [
            "['', 'h', 'e', '', '', 'f']\n"
          ]
        }
      ],
      "source": [
        "def handle_guess(response, chars):\n",
        "    \"\"\"Handle a response from the API.\n",
        "    Return True if the guess is correct.\n",
        "    \"\"\"\n",
        "    size = len(response)\n",
        "    num_correct = 0\n",
        "\n",
        "    for item in response:\n",
        "        c = item[\"guess\"]\n",
        "        result = item[\"result\"]\n",
        "        slot = item[\"slot\"]\n",
        "\n",
        "        if result == \"correct\":\n",
        "            # If correct, replace slot with character\n",
        "            num_correct += 1\n",
        "            chars[slot] = c\n",
        "            if c in chars[size:]:\n",
        "                # If c existed in present characters, remove c\n",
        "                chars.pop(chars.index(c, size))\n",
        "        elif result == \"present\":\n",
        "            # If present, push to the end of list\n",
        "            if c not in chars:\n",
        "                chars.append(c)\n",
        "\n",
        "    if num_correct == size:\n",
        "        return True\n",
        "    return False\n",
        "\n",
        "chars = [\"\"] * 5\n",
        "handle_guess(response, chars)\n",
        "print(chars)"
      ]
    },
    {
      "cell_type": "code",
      "execution_count": 6,
      "metadata": {
        "colab": {
          "base_uri": "https://localhost:8080/"
        },
        "id": "4yj9VZG8Bjxr",
        "outputId": "0c57d7c9-a8aa-46a0-8d16-735ffe046878"
      },
      "outputs": [
        {
          "data": {
            "text/plain": [
              "['yappy',\n",
              " 'sappy',\n",
              " 'pappy',\n",
              " 'nappy',\n",
              " 'mappy',\n",
              " 'happy',\n",
              " 'happy',\n",
              " 'gappy',\n",
              " 'cappy',\n",
              " 'apply']"
            ]
          },
          "execution_count": 6,
          "metadata": {},
          "output_type": "execute_result"
        }
      ],
      "source": [
        "def suggest_word(input_word, word_list, num_suggestion=10):\n",
        "    \"\"\"Get a list of close matches to the input word.\n",
        "    \"\"\"\n",
        "    return get_close_matches(input_word, word_list, n=num_suggestion)\n",
        "\n",
        "suggest_word(\"appy\", words.words())"
      ]
    },
    {
      "cell_type": "code",
      "execution_count": 7,
      "metadata": {
        "id": "lRt4adObIkSt"
      },
      "outputs": [],
      "source": [
        "def guess_word(seed, size=5, num_init=20, max_round=5, num_suggestion=10):\n",
        "    \"\"\"Guess a word using the Wordle API.\n",
        "    Return the word and the number of requests.\n",
        "\n",
        "    Args:\n",
        "        seed (int): The seed for the random number generator.\n",
        "        size (int): The size of the word.\n",
        "        num_init (int): The number of initial guesses.\n",
        "        max_round (int): The maximum number of rounds for guessing.\n",
        "        num_suggestion (int): The number of suggestions per round.\n",
        "    \"\"\"\n",
        "    num_requests = 0\n",
        "\n",
        "    # Filter size-letter words\n",
        "    word_list = [word for word in words.words() if len(word) == size]\n",
        "\n",
        "    chars = [\"\"] * size\n",
        "\n",
        "    # Initial guess with random words\n",
        "    init_words = random.choices(word_list, k=num_init)\n",
        "    for w in init_words:\n",
        "        response = make_guess(w, seed, size)\n",
        "        num_requests += 1\n",
        "        handle_guess(response, chars)\n",
        "\n",
        "    for _ in range(max_round):\n",
        "        keyword = chrs(chars, size)\n",
        "        suggestions = suggest_word(keyword, word_list, num_suggestion)\n",
        "        if len(keyword) == size:\n",
        "            # If all the present chars found,\n",
        "            # fill the empty slots with present characters\n",
        "            # and add to suggestions\n",
        "            suggestions.append(keyword)\n",
        "        for w in suggestions:\n",
        "            response = make_guess(w, seed, size)\n",
        "            num_requests += 1\n",
        "            if handle_guess(response, chars):\n",
        "                return w, num_requests\n",
        "\n",
        "    return None, num_requests"
      ]
    },
    {
      "cell_type": "code",
      "execution_count": 11,
      "metadata": {
        "colab": {
          "base_uri": "https://localhost:8080/"
        },
        "id": "dYItFv_mm4wq",
        "outputId": "211e07be-b0e8-4a8d-a5fc-74bbfe917fa1"
      },
      "outputs": [
        {
          "name": "stdout",
          "output_type": "stream",
          "text": [
            "Guessing: faunule\n",
            "Guessing: binocle\n",
            "Guessing: abysmal\n",
            "Guessing: decidua\n",
            "Guessing: wakeful\n",
            "Guessing: disturn\n",
            "Guessing: stuprum\n",
            "Guessing: bellyer\n",
            "Guessing: liparid\n",
            "Guessing: redwood\n",
            "Guessing: fiefdom\n",
            "Guessing: ironish\n",
            "Guessing: whelked\n",
            "Guessing: Physcia\n",
            "Guessing: screeve\n",
            "Guessing: comamie\n",
            "Guessing: chrisma\n",
            "Guessing: silesia\n",
            "Guessing: haggish\n",
            "Guessing: chiliad\n",
            "Guessing: placard\n",
            "Guessing: packery\n",
            "Guessing: jackrod\n",
            "Guessing: epacrid\n",
            "Guessing: wracker\n",
            "Guessing: whacker\n",
            "Guessing: upwards\n",
            "Guessing: uptrack\n",
            "Guessing: uptaker\n",
            "Guessing: uphoard\n",
            "Guessing: placard\n",
            "Guessing: tankard\n",
            "Guessing: spayard\n",
            "Guessing: pochard\n",
            "Guessing: palikar\n",
            "Guessing: packway\n",
            "Guessing: packman\n",
            "Guessing: packery\n",
            "Guessing: package\n",
            "Guessing: jackrod\n",
            "Guessing: packard\n",
            "Word: packard\n",
            "Number of requests: 41\n"
          ]
        }
      ],
      "source": [
        "word, num_requests = guess_word(seed=17, size=7)\n",
        "print(f\"Word: {word}\")\n",
        "print(f\"Number of requests: {num_requests}\")"
      ]
    }
  ],
  "metadata": {
    "colab": {
      "provenance": []
    },
    "kernelspec": {
      "display_name": "Python 3",
      "name": "python3"
    },
    "language_info": {
      "codemirror_mode": {
        "name": "ipython",
        "version": 3
      },
      "file_extension": ".py",
      "mimetype": "text/x-python",
      "name": "python",
      "nbconvert_exporter": "python",
      "pygments_lexer": "ipython3",
      "version": "3.8.8"
    }
  },
  "nbformat": 4,
  "nbformat_minor": 0
}
